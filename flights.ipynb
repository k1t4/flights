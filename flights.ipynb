{
 "cells": [
  {
   "cell_type": "markdown",
   "metadata": {},
   "source": [
    "# Работа с данными"
   ]
  },
  {
   "cell_type": "markdown",
   "metadata": {},
   "source": [
    "## О распределении в целом"
   ]
  },
  {
   "cell_type": "markdown",
   "metadata": {},
   "source": [
    "Вообще говоря, экспоненциальное распределение очень связано с распределением Пуассона. Поэтому, выбирая данные, нужно обратить внимание на то, является ли изучаемый процесс пуассоновским. Что значит пуассоновский процесс? Пуассоновский процесс это такая модель, при которой:\n",
    "- последовательность случайных событий происходит с какой-то постоянной интенсивностью\n",
    "- все события являются независимыми\n",
    "\n",
    "В \"Домашней работе 1\" я объяснял связь между распределением Пуассона и показательным распределением, но можно проиллюстрировать ее и здесь. По своему смыслу экспоненциальная модель это распределение вероятностей времени между возникновениями каких-то событий в пауссоновском процессе. То есть оно отвечает на вопрос, с какой вероятностью данное событие произойдет в какой-то отрезок времени. Пойдем от обратного и зададимся таким вопросом, а в течении какого времени событие **не** произойдет? На сколько нам известно, отсутствие какого-то события это Пуассоновская модель при $\\xi=0$, то есть если $P(\\xi=k)=\\frac{\\lambda^k e^{-\\lambda}}{k!}$, то $P(\\xi=0)=\\frac{\\lambda^0 e^{-\\lambda}}{0!}=e^{-\\lambda}$. Это значение верно только для одного временного юнита. Если мы хотим узнать вероятность *P(ничего не происходит в течении времени t)*, то нам нужно сделать следующее:\n",
    "\n",
    "$$P(\\mbox{ничего не происходит в течении t})=P(\\mbox{ничего не происходит за 1-й юнит})\\cdot P(\\mbox{ничего не происходит за 2-й юнит})\\cdot \\dots \\cdot P(\\mbox{ничего не происходит за t-й юнит})=e^{-\\lambda}\\cdot e^{-\\lambda} \\cdot \\dots \\cdot e^{-\\lambda}=e^{-\\lambda t}$$\n",
    "\n",
    "Таким образом мы получили $P(T > t)$, где $T$ - случайная величина, а сама вероятность по смыслу - вероятность того, что время ожидания возникновения события будет больше $t$. А нас интересует как раз-таки обратное, то есть $P(T \\leq t)=1-e^{-\\lambda t}$. Вот мы и получили CDF нашего показательного распределения, чтобы получить PDF нам нужно продифференцировать CDF: $\\frac{d}{dt}(1-e^{-\\lambda t})=\\lambda e^{-\\lambda t}$\n",
    "\n",
    "Также стоит отметить, что $\\lambda_{poiss}$ связана с $\\lambda_{exp}$. По смыслу $\\lambda_{poiss}$ является интенсивностью. Грубо говоря, за определенный отрезок времени какое-то событие в среднем происходит $\\lambda_{poiss}$ раз. $\\lambda_{exp}$ напротив, отвечает на вопрос, за какое время произойдет одно событие. То есть $\\lambda_{exp}=\\frac{1}{\\lambda_{poiss}}$\n",
    "\n",
    "Подытожим, экспоненциальное распределение говорит нам о вероятности возникновения какого-то события в неком промежутке времени. Для работы нам нужно правильно выбрать данные, они должны быть из пауссоновского процесса, то есть события должны быть независимы друг от друга и происходить с некой интенсивностью."
   ]
  },
  {
   "cell_type": "markdown",
   "metadata": {},
   "source": [
    "## О данных которые будем исследовать"
   ]
  },
  {
   "cell_type": "markdown",
   "metadata": {},
   "source": [
    "Когда речь идет о процессах, которые происходят с некой интенсивностью, на ум сразу приходят отрасли, в которых процесс поставлен на \"поток\". Будь-то промышленность, транспорт, вычислительная техника(серверы), отели, кафе и так далее. Для своей работы я решил взять довольно крупный датасет о трафике различных аэропортов в Америке. Данный были взяты [с этого сайта](https://www.kaggle.com/giovamata/airlinedelaycauses). В датасете есть данные о времени и датах вылета самолетов из различных аэропортов. За процесс возьмем наблюдение вылетов самолетов из какого-то аэропорта. Очевидно, что у данного наблюдения будет некая интенсивность. Зададимся вопросом, если мы наблюдаем за вылетом самолетов, и только что взлетел самолет \"A\", какова вероятность, что следующий самолет \"B\" вылетит в промежуток времени t. Для того чтобы ответить на этот вопрос, нам надо взять выборку и посмотреть, как она будет распределена. Имея данные о времени взлета, мы можем расположить их в порядке возрастания и взять разницу между каждыми двумя взлетами самолетов и посмотреть как будет распределена эта разница. Код python ниже помогает сгенерировать массив разницы времени между двумя взлетами (delta) для двух аэропортов (Los Angeles International Airport, McCarran International Airport). После получение массива delta, код генерирует график распределения."
   ]
  },
  {
   "cell_type": "code",
   "execution_count": 56,
   "metadata": {},
   "outputs": [
    {
     "name": "stdout",
     "output_type": "stream",
     "text": [
      "LAX\n",
      "[34.0, 15.0, 26.0, 22.0, 19.0, 254.0, 9.0, 11.0, 19.0, 30.0, 12.0, 8.0, 16.0, 10.0, 6.0, 5.0, 3.0, 4.0, 17.0, 28.0, 16.0, 3.0, 12.0, 4.0, 4.0, 2.0, 3.0, 7.0, 2.0, 2.0, 8.0, 15.0, 4.0, 5.0, 4.0, 2.0, 7.0, 3.0, 7.0, 2.0, 4.0, 4.0, 17.0, 8.0, 2.0, 5.0, 4.0, 5.0, 4.0, 2.0, 6.0, 23.0, 3.0, 3.0, 2.0, 2.0, 5.0, 4.0, 13.0, 4.0, 10.0, 2.0, 4.0, 3.0, 2.0, 10.0, 2.0, 8.0, 4.0, 10.0, 3.0, 4.0, 5.0, 4.0, 4.0, 4.0, 5.0, 4.0, 8.0, 11.0, 16.0, 2.0, 3.0, 3.0, 3.0, 18.0, 6.0, 2.0, 3.0, 5.0, 21.0, 4.0, 9.0, 3.0, 2.0, 8.0, 2.0, 2.0, 3.0, 7.0]\n"
     ]
    },
    {
     "data": {
      "image/png": "[encoded data removed]",
      "text/plain": [
       "<Figure size 432x288 with 1 Axes>"
      ]
     },
     "metadata": {
      "needs_background": "light"
     },
     "output_type": "display_data"
    },
    {
     "name": "stdout",
     "output_type": "stream",
     "text": [
      "LAS\n",
      "[3.0, 4.0, 3.0, 2.0, 5.0, 4.0, 5.0, 8.0, 4.0, 2.0, 10.0, 24.0, 115.0, 167.0, 16.0, 92.0, 5.0, 25.0, 11.0, 11.0, 20.0, 11.0, 17.0, 5.0, 12.0, 7.0, 13.0, 5.0, 3.0, 8.0, 11.0, 3.0, 5.0, 13.0, 10.0, 9.0, 7.0, 7.0, 3.0, 9.0, 6.0, 2.0, 6.0, 8.0, 3.0, 14.0, 33.0, 3.0, 4.0, 2.0, 2.0, 17.0, 7.0, 4.0, 3.0, 34.0, 12.0, 11.0, 15.0, 3.0, 9.0, 2.0, 2.0, 4.0, 4.0, 3.0, 9.0, 7.0, 8.0, 3.0, 7.0, 4.0, 2.0, 5.0, 2.0, 5.0, 11.0, 4.0, 4.0, 8.0, 2.0, 5.0, 3.0, 3.0, 3.0, 2.0, 2.0, 6.0, 13.0, 4.0, 6.0, 4.0, 5.0, 3.0, 8.0, 2.0, 3.0, 7.0, 2.0, 11.0]\n"
     ]
    },
    {
     "data": {
      "image/png": "[encoded data removed]",
      "text/plain": [
       "<Figure size 432x288 with 1 Axes>"
      ]
     },
     "metadata": {
      "needs_background": "light"
     },
     "output_type": "display_data"
    }
   ],
   "source": [
    "import csv\n",
    "from datetime import datetime\n",
    "import matplotlib.pyplot as plt\n",
    "import numpy as np\n",
    "\n",
    "def distrib(airport):\n",
    "    airport = airport\n",
    "    with open('DelayedFlights.csv') as f:\n",
    "        csv_reader = csv.DictReader(f, delimiter=',')\n",
    "        clean_l = []\n",
    "        # clear unnecessary data\n",
    "        for row in csv_reader:\n",
    "            clean_l.append([row[\"Year\"],\n",
    "                            row[\"Month\"],\n",
    "                            row[\"DayofMonth\"],\n",
    "                            int(float(row[\"DepTime\"])),\n",
    "                            row[\"Origin\"]])\n",
    "\n",
    "    # getting information for specific airport\n",
    "    clean_l = [l[:4] for l in clean_l if l[4]==airport]\n",
    "\n",
    "    # changing format of date and time and appending it as datetime object\n",
    "    for i in range(len(clean_l)):\n",
    "        sublist = clean_l[i]\n",
    "        time = '%04d' % sublist[3]\n",
    "        if time == '2400': time = '0000'\n",
    "        clean_l[i] = datetime(int(sublist[0]), int(sublist[1]), int(sublist[2]), int(time[:2]), int(time[2:]))\n",
    "\n",
    "    clean_l.sort()\n",
    "\n",
    "    # creating a delta-time list\n",
    "    delta = []\n",
    "    for i in range(1, len(clean_l)):\n",
    "        delta.append((clean_l[i]-clean_l[i-1]).total_seconds()//60)\n",
    "    delta.insert(0, clean_l[0].minute//60)\n",
    "    delta = list(filter(lambda x: x > 1, delta))\n",
    "    #making a graph and printing results\n",
    "    print(airport)\n",
    "    print(delta[:100])\n",
    "    num_bins = 50\n",
    "    n, bins, patches = plt.hist(delta, num_bins, facecolor='blue', alpha=0.5, range=[1,50], density=True)\n",
    "    #x = np.linspace(2,50,10)\n",
    "    #plt.plot(x, y:=(0.16)*np.exp((-0.16)*x),'b')\n",
    "    plt.show()\n",
    "    return delta\n",
    "delta1 = distrib(\"LAX\")\n",
    "delta2 = distrib(\"LAS\")"
   ]
  },
  {
   "cell_type": "markdown",
   "metadata": {},
   "source": [
    "## Исследование данных"
   ]
  },
  {
   "cell_type": "markdown",
   "metadata": {},
   "source": [
    "Очевидно, что данные выборки подчиняется экспоненциальному распределению. Можем провести некоторое исследование."
   ]
  },
  {
   "cell_type": "markdown",
   "metadata": {},
   "source": [
    "### Выборочное среднее"
   ]
  },
  {
   "cell_type": "markdown",
   "metadata": {},
   "source": [
    "Выборочное среднее вычисляется по формуле: $\\overline X=\\frac{1}{n}\\sum_1^n X_i$. Вычислим его для наших выборок."
   ]
  },
  {
   "cell_type": "code",
   "execution_count": 51,
   "metadata": {},
   "outputs": [
    {
     "name": "stdout",
     "output_type": "stream",
     "text": [
      "LAX sample mean = 11.545258092543499\n",
      "LAS sample mean = 12.722006964539704\n"
     ]
    }
   ],
   "source": [
    "def sample_mean(delta):\n",
    "    sum = 0\n",
    "    for i in delta:\n",
    "        sum += i\n",
    "    return(sum/len(delta))\n",
    "\n",
    "print(\"LAX sample mean =\", sample_mean(delta1))\n",
    "print(\"LAS sample mean =\", sample_mean(delta2))"
   ]
  },
  {
   "cell_type": "markdown",
   "metadata": {},
   "source": [
    "### Выборочная дисперсия"
   ]
  },
  {
   "cell_type": "markdown",
   "metadata": {},
   "source": [
    "Выборочная дисперсия вычисляется по формуле $S_0^2=\\frac{1}{n}\\sum_1^n (X_i-\\overline X)^2$. Вычислим для наших выборок."
   ]
  },
  {
   "cell_type": "code",
   "execution_count": 57,
   "metadata": {},
   "outputs": [
    {
     "name": "stdout",
     "output_type": "stream",
     "text": [
      "LAX sample disp = 821.3647561250149\n",
      "LAS sample disp = 1130.6909772660101\n"
     ]
    }
   ],
   "source": [
    "def sample_disp(delta):\n",
    "    mean = sample_mean(delta)\n",
    "    sum = 0\n",
    "    for i in delta:\n",
    "        sum += (i-mean)**2\n",
    "    return(sum/len(delta))\n",
    "\n",
    "print(\"LAX sample disp =\", sample_disp(delta1))\n",
    "print(\"LAS sample disp =\", sample_disp(delta2))"
   ]
  },
  {
   "cell_type": "markdown",
   "metadata": {},
   "source": [
    "### Оценка"
   ]
  },
  {
   "cell_type": "markdown",
   "metadata": {},
   "source": [
    "Из прошлой домашней работы нам известно, что для показательного распределения можно получить оценку методом максимального правдоподобия. Для параметрической функции $\\tau(\\theta)=\\frac{1}{\\theta}$, оценка будет выглядеть так: $\\hat{\\theta}=\\frac{1}{\\overline X}$, получим ее из нашей выборки:"
   ]
  },
  {
   "cell_type": "code",
   "execution_count": 58,
   "metadata": {},
   "outputs": [
    {
     "name": "stdout",
     "output_type": "stream",
     "text": [
      "Theta for LAX is 0.08661564704611062\n",
      "Theta for LAS is 0.07860395005185261\n"
     ]
    }
   ],
   "source": [
    "print(\"Theta for LAX is\", 1/sample_mean(delta1))\n",
    "print(\"Theta for LAS is\",1/sample_mean(delta2))"
   ]
  }
 ],
 "metadata": {
  "kernelspec": {
   "display_name": "Python 3",
   "language": "python",
   "name": "python3"
  },
  "language_info": {
   "codemirror_mode": {
    "name": "ipython",
    "version": 3
   },
   "file_extension": ".py",
   "mimetype": "text/x-python",
   "name": "python",
   "nbconvert_exporter": "python",
   "pygments_lexer": "ipython3",
   "version": "3.8.6"
  }
 },
 "nbformat": 4,
 "nbformat_minor": 4
}
